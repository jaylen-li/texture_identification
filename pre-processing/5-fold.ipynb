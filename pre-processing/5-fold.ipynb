{
 "cells": [
  {
   "cell_type": "code",
   "execution_count": 4,
   "id": "8ef3bd9e-e709-45ea-aee4-d574b1132394",
   "metadata": {},
   "outputs": [
    {
     "name": "stdout",
     "output_type": "stream",
     "text": [
      "Set 1 created with validation set from fold 1 and training set from folds 2~5.\n",
      "Set 2 created with validation set from fold 2 and training set from folds 2~5.\n",
      "Set 3 created with validation set from fold 3 and training set from folds 2~5.\n",
      "Set 4 created with validation set from fold 4 and training set from folds 2~5.\n",
      "Set 5 created with validation set from fold 5 and training set from folds 2~5.\n",
      "5-fold cross-validation datasets created with a separate test set.\n"
     ]
    }
   ],
   "source": [
    "import os\n",
    "import shutil\n",
    "from sklearn.model_selection import KFold, train_test_split\n",
    "\n",
    "base_path = r'D:\\\\project_geo\\\\code_test_combined\\\\organized32_32'\n",
    "output_dir = r'D:\\\\project_geo\\\\code_test_combined\\\\5folds_with_test_updated_combined_ver3'\n",
    "\n",
    "os.makedirs(output_dir, exist_ok=True)\n",
    "\n",
    "file_paths = []\n",
    "\n",
    "# Iterate over class folders and collect file paths\n",
    "for root, dirs, files in os.walk(base_path):\n",
    "    for file_name in files:\n",
    "        if file_name.endswith('.png'):\n",
    "            file_paths.append(os.path.join(root, file_name))\n",
    "\n",
    "# Extract 10% of the data for testing\n",
    "train_val_paths, test_paths = train_test_split(file_paths, test_size=0.1, random_state=42)\n",
    "\n",
    "# Create the test set directory\n",
    "test_dir = os.path.join(output_dir, 'test')\n",
    "os.makedirs(test_dir, exist_ok=True)\n",
    "for path in test_paths:\n",
    "    label = os.path.basename(os.path.dirname(path))\n",
    "    dest_dir = os.path.join(test_dir, label)\n",
    "    os.makedirs(dest_dir, exist_ok=True)\n",
    "    shutil.copy(path, dest_dir)\n",
    "\n",
    "# Create the 5-fold sets from the remaining data\n",
    "kf = KFold(n_splits=5, shuffle=True, random_state=42)\n",
    "\n",
    "for set_number, (train_idx, val_idx) in enumerate(kf.split(train_val_paths), 1):\n",
    "    set_dir = os.path.join(output_dir, f'set_{set_number}')\n",
    "    train_dir = os.path.join(set_dir, 'train')\n",
    "    val_dir = os.path.join(set_dir, 'val')\n",
    "\n",
    "    # Create directories for train and val within the set\n",
    "    os.makedirs(train_dir, exist_ok=True)\n",
    "    os.makedirs(val_dir, exist_ok=True)\n",
    "\n",
    "    # Copy validation files to the val directory\n",
    "    for idx in val_idx:\n",
    "        src_path = train_val_paths[idx]\n",
    "        label = os.path.basename(os.path.dirname(src_path))\n",
    "        dest_dir = os.path.join(val_dir, label)\n",
    "        os.makedirs(dest_dir, exist_ok=True)\n",
    "        shutil.copy(src_path, dest_dir)\n",
    "\n",
    "    # Copy training files to the train directory\n",
    "    for idx in train_idx:\n",
    "        src_path = train_val_paths[idx]\n",
    "        label = os.path.basename(os.path.dirname(src_path))\n",
    "        dest_dir = os.path.join(train_dir, label)\n",
    "        os.makedirs(dest_dir, exist_ok=True)\n",
    "        shutil.copy(src_path, dest_dir)\n",
    "\n",
    "    print(f\"Set {set_number} created with validation set from fold {set_number} and training set from other folds.\")\n",
    "\n",
    "print(\"5-fold created with a separate test set.\")\n"
   ]
  },
  {
   "cell_type": "code",
   "execution_count": null,
   "id": "931427aa-8fd8-4adc-b946-8ca8590d81be",
   "metadata": {},
   "outputs": [],
   "source": []
  },
  {
   "cell_type": "code",
   "execution_count": null,
   "id": "f16fc77f-4b8c-4c6f-ae2a-052e8c7337c4",
   "metadata": {},
   "outputs": [],
   "source": []
  }
 ],
 "metadata": {
  "kernelspec": {
   "display_name": "Python 3 (ipykernel)",
   "language": "python",
   "name": "python3"
  },
  "language_info": {
   "codemirror_mode": {
    "name": "ipython",
    "version": 3
   },
   "file_extension": ".py",
   "mimetype": "text/x-python",
   "name": "python",
   "nbconvert_exporter": "python",
   "pygments_lexer": "ipython3",
   "version": "3.10.11"
  }
 },
 "nbformat": 4,
 "nbformat_minor": 5
}
