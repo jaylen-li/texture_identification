{
 "cells": [
  {
   "cell_type": "code",
   "execution_count": 1,
   "id": "91c2e1b5",
   "metadata": {},
   "outputs": [],
   "source": [
    "\"\"\"\n",
    "Author https://github.com/boguss1225\n",
    "Reference : https://github.com/calmisential/TensorFlow2.0_Image_Classification\n",
    "\"\"\"\n",
    "from __future__ import absolute_import, division, print_function\n",
    "import tensorflow as tf\n",
    "import pandas as pd\n",
    "import config\n",
    "from utils.evaluate import eval_model\n",
    "from utils.prepare_data import get_datasets, get_datasets_autosplit\n",
    "from utils.pretrained_models import pretrained_model\n",
    "import matplotlib.pyplot as plt\n",
    "\n",
    "import numpy as np\n",
    "import random\n",
    "import tensorflow as tf\n"
   ]
  },
  {
   "cell_type": "markdown",
   "id": "41e1ba2d-440b-48e2-bb95-ab660e44b738",
   "metadata": {},
   "source": [
    "## Select GPU"
   ]
  },
  {
   "cell_type": "code",
   "execution_count": 2,
   "id": "2729f1b5",
   "metadata": {},
   "outputs": [],
   "source": [
    "import os\n",
    "os.environ[\"CUDA_VISIBLE_DEVICES\"]=\"0\"\n",
    "# os.environ[\"CUDA_HOME\"]\n",
    "\n",
    "# Set random seeds\n",
    "seed = 42\n",
    "random.seed(seed)\n",
    "np.random.seed(seed)\n",
    "tf.random.set_seed(seed)\n",
    "\n",
    "os.environ['PYTHONHASHSEED'] = str(seed)\n",
    "os.environ['TF_DETERMINISTIC_OPS'] = '1'"
   ]
  },
  {
   "cell_type": "code",
   "execution_count": 3,
   "id": "d7854be8",
   "metadata": {},
   "outputs": [],
   "source": [
    "# GPU settings\n",
    "gpus = tf.config.experimental.list_physical_devices('GPU')\n",
    "if gpus:\n",
    "    for gpu in gpus:\n",
    "        tf.config.experimental.set_memory_growth(gpu, True)"
   ]
  },
  {
   "cell_type": "code",
   "execution_count": 4,
   "id": "69ed2e82-186e-4dff-bea2-35e6b70dbc71",
   "metadata": {},
   "outputs": [
    {
     "data": {
      "text/plain": [
       "[PhysicalDevice(name='/physical_device:GPU:0', device_type='GPU')]"
      ]
     },
     "execution_count": 4,
     "metadata": {},
     "output_type": "execute_result"
    }
   ],
   "source": [
    "gpus"
   ]
  },
  {
   "cell_type": "markdown",
   "id": "c3c878a0-2833-4421-a2ae-43e92a3de2d2",
   "metadata": {},
   "source": [
    "## Select Model"
   ]
  },
  {
   "cell_type": "code",
   "execution_count": 5,
   "id": "83bb72f1",
   "metadata": {},
   "outputs": [],
   "source": [
    "available_models=[\"Xception\",\n",
    "                  \"EfficientNetB0\", \"EfficientNetB1\", \"EfficientNetB2\",\n",
    "                  \"EfficientNetB3\", \"EfficientNetB4\", \"EfficientNetB5\",\n",
    "                  \"EfficientNetB6\", \"EfficientNetB7\",\n",
    "                  \"EfficientNetV2B0\", \"EfficientNetV2B1\",\n",
    "                  \"EfficientNetV2B2\", \"EfficientNetV2B3\",\n",
    "                  \"EfficientNetV2S\", \"EfficientNetV2M\", \"EfficientNetV2L\",\n",
    "                  \"VGG16\",\"VGG19\",\n",
    "                  \"DenseNet121\", \"DenseNet169\", \"DenseNet201\",\n",
    "                  \"NASNetLarge\",\"NASNetMobile\",\n",
    "                  \"InceptionV3\",\"InceptionResNetV2\"\n",
    "                  ]\n",
    "\n",
    "def get_model():\n",
    "    model = pretrained_model(model_name=\"EfficientNetB0\",\n",
    "                            load_weight=None)\n",
    "\n",
    "    model.compile(loss=tf.keras.losses.categorical_crossentropy,\n",
    "                  optimizer=tf.keras.optimizers.Adam(learning_rate=0.005),\n",
    "                  metrics=['accuracy', # add more metrics if you want\n",
    "                            tf.keras.metrics.AUC(),\n",
    "                            tf.keras.metrics.Precision(),\n",
    "                            tf.keras.metrics.Recall(),\n",
    "                            ])\n",
    "    return model"
   ]
  },
  {
   "cell_type": "markdown",
   "id": "d30cffeb-d304-48dc-8a65-d6a32238dc21",
   "metadata": {},
   "source": [
    "## Load Data"
   ]
  },
  {
   "cell_type": "code",
   "execution_count": 6,
   "id": "3a6fac01",
   "metadata": {},
   "outputs": [
    {
     "name": "stdout",
     "output_type": "stream",
     "text": [
      "Found 31107 images belonging to 5 classes.\n",
      "Found 7811 images belonging to 5 classes.\n",
      "Found 5099 images belonging to 5 classes.\n"
     ]
    }
   ],
   "source": [
    "# Load Data with manual data split\n",
    "# train_generator, valid_generator, test_generator, \\\n",
    "# train_num, valid_num, test_num = get_datasets()\n",
    "\n",
    "# Load Data with auto split\n",
    "#train_generator, valid_generator, test_generator, \\\n",
    "#train_num, valid_num, test_num = get_datasets_autosplit()\n",
    "set_num = 1\n",
    "train_generator, val_generator, test_generator, train_num, valid_num, test_num = get_datasets(set_num)"
   ]
  },
  {
   "cell_type": "code",
   "execution_count": 7,
   "id": "618c40b6",
   "metadata": {},
   "outputs": [
    {
     "data": {
      "text/plain": [
       "32"
      ]
     },
     "execution_count": 7,
     "metadata": {},
     "output_type": "execute_result"
    }
   ],
   "source": [
    "\"\"\"\n",
    "Apply image data augmentation in 'utils.prepare_data.py' manually\n",
    "\"\"\"\n",
    "config.image_height"
   ]
  },
  {
   "cell_type": "markdown",
   "id": "f18b1273-728d-48da-96ef-0dbe517023ff",
   "metadata": {},
   "source": [
    "## Visualize the data after augmentaion"
   ]
  },
  {
   "cell_type": "code",
   "execution_count": 8,
   "id": "1b1fac3d",
   "metadata": {
    "scrolled": true
   },
   "outputs": [
    {
     "data": {
      "image/png": "[encoded data removed]",
      "text/plain": [
       "<Figure size 1000x1000 with 9 Axes>"
      ]
     },
     "metadata": {},
     "output_type": "display_data"
    }
   ],
   "source": [
    "\"\"\"\n",
    "Here are the first 9 images in the training dataset. \n",
    "Label 0 :Building\n",
    "Label 1 :Land_(unpaved_area)\n",
    "Label 2 :Road\n",
    "Label 3 :Vegetation\n",
    "Label 4 :Water\n",
    "\"\"\"\n",
    "if config.BATCH_SIZE > 9:\n",
    "    range_val = 9\n",
    "else:\n",
    "    range_val = config.BATCH_SIZE\n",
    "\n",
    "# Get the mapping from class indices to class names\n",
    "class_indices = {v: k for k, v in train_generator.class_indices.items()}\n",
    "\n",
    "plt.figure(figsize=(10, 10))\n",
    "for i in range(range_val):\n",
    "    ax = plt.subplot(3, 3, i + 1)\n",
    "    img, label = next(train_generator)  # Get the image and label\n",
    "    \n",
    "    # Extract the numeric label (0~5)\n",
    "    label_number = label[0].argmax()  # The label index (0~5)\n",
    "    \n",
    "    # Map the numeric label to the class name\n",
    "    class_name = class_indices[label_number]\n",
    "    \n",
    "    # Display the image\n",
    "    plt.imshow(img[0].astype(\"uint8\"))\n",
    "    \n",
    "    # Show the full class name and label number\n",
    "    plt.title(f\"{class_name}: {label_number}\", fontsize=10)\n",
    "    plt.axis(\"off\")\n",
    "\n",
    "plt.show()\n",
    "\n"
   ]
  },
  {
   "cell_type": "markdown",
   "id": "eefde02f-7d04-4cc6-85db-6e2dfb9ab463",
   "metadata": {},
   "source": [
    "## Callbacks"
   ]
  },
  {
   "cell_type": "code",
   "execution_count": 9,
   "id": "305cd3a5",
   "metadata": {},
   "outputs": [],
   "source": [
    "\"\"\"\n",
    "Callbacks\n",
    "\"\"\"\n",
    "\n",
    "# tensorboard = tf.keras.callbacks.TensorBoard(log_dir='log')\n",
    "\n",
    "model_checkpoint_callback = tf.keras.callbacks.ModelCheckpoint(\n",
    "    filepath=config.model_dir + config.model_save_name + \"_best.weights.h5\",  # Change extension to .weights.h5\n",
    "    #filepath=config.model_dir+config.model_save_name+\"_best.keras\",\n",
    "    save_weights_only=True,\n",
    "    monitor='val_accuracy',\n",
    "    mode='max',\n",
    "    save_best_only=True\n",
    ")\n",
    "\n",
    "early_stop_callback = tf.keras.callbacks.EarlyStopping(\n",
    "    monitor=\"loss\",\n",
    "    patience=20,\n",
    "    restore_best_weights=True\n",
    ")\n",
    "\n",
    "callbacks = [\n",
    "#     tensorboard, \n",
    "    model_checkpoint_callback, \n",
    "    early_stop_callback\n",
    "]"
   ]
  },
  {
   "cell_type": "code",
   "execution_count": 10,
   "id": "d0f3db0d",
   "metadata": {},
   "outputs": [],
   "source": [
    "model = get_model()\n",
    "# tf.keras.utils.plot_model(model, show_shapes=True)"
   ]
  },
  {
   "cell_type": "markdown",
   "id": "76247302-7122-4663-9d61-dbdb1c9fc8d8",
   "metadata": {},
   "source": [
    "## Train the model"
   ]
  },
  {
   "cell_type": "code",
   "execution_count": 17,
   "id": "2b9e691a-ff66-443d-bf26-298684d11a7c",
   "metadata": {
    "tags": []
   },
   "outputs": [
    {
     "name": "stdout",
     "output_type": "stream",
     "text": [
      "Start training: D:/project_geo/code_test_combined/5folds_with_test_updated_combined_ver3/set_{set}/train\n",
      "Model: EfficientNetB0\n",
      "Epoch 1/25\n",
      "243/243 [==============================] - 12s 48ms/step - loss: 0.2568 - accuracy: 0.9189 - auc: 0.9893 - precision: 0.9248 - recall: 0.9116 - val_loss: 0.2801 - val_accuracy: 0.9171 - val_auc: 0.9875 - val_precision: 0.9210 - val_recall: 0.9109\n",
      "Epoch 2/25\n",
      "243/243 [==============================] - 11s 45ms/step - loss: 0.2569 - accuracy: 0.9192 - auc: 0.9890 - precision: 0.9264 - recall: 0.9130 - val_loss: 0.4735 - val_accuracy: 0.8813 - val_auc: 0.9674 - val_precision: 0.8865 - val_recall: 0.8765\n",
      "Epoch 3/25\n",
      "243/243 [==============================] - 11s 43ms/step - loss: 0.2455 - accuracy: 0.9222 - auc: 0.9901 - precision: 0.9293 - recall: 0.9148 - val_loss: 0.2829 - val_accuracy: 0.9123 - val_auc: 0.9873 - val_precision: 0.9196 - val_recall: 0.9057\n",
      "Epoch 4/25\n",
      "243/243 [==============================] - 11s 43ms/step - loss: 0.2457 - accuracy: 0.9235 - auc: 0.9899 - precision: 0.9298 - recall: 0.9166 - val_loss: 0.2656 - val_accuracy: 0.9159 - val_auc: 0.9891 - val_precision: 0.9202 - val_recall: 0.9116\n",
      "Epoch 5/25\n",
      "243/243 [==============================] - 11s 45ms/step - loss: 0.2482 - accuracy: 0.9207 - auc: 0.9898 - precision: 0.9284 - recall: 0.9147 - val_loss: 0.3244 - val_accuracy: 0.9005 - val_auc: 0.9832 - val_precision: 0.9063 - val_recall: 0.8973\n",
      "Epoch 6/25\n",
      "243/243 [==============================] - 11s 44ms/step - loss: 0.2332 - accuracy: 0.9253 - auc: 0.9909 - precision: 0.9322 - recall: 0.9176 - val_loss: 0.2645 - val_accuracy: 0.9165 - val_auc: 0.9887 - val_precision: 0.9253 - val_recall: 0.9086\n",
      "Epoch 7/25\n",
      "243/243 [==============================] - 10s 41ms/step - loss: 0.6258 - accuracy: 0.7992 - auc: 0.9568 - precision: 0.8387 - recall: 0.7613 - val_loss: 0.6791 - val_accuracy: 0.7570 - val_auc: 0.9420 - val_precision: 0.8303 - val_recall: 0.7080\n",
      "Epoch 8/25\n",
      "243/243 [==============================] - 11s 44ms/step - loss: 0.5164 - accuracy: 0.8309 - auc: 0.9648 - precision: 0.8675 - recall: 0.7942 - val_loss: 0.4226 - val_accuracy: 0.8607 - val_auc: 0.9752 - val_precision: 0.8971 - val_recall: 0.8240\n",
      "Epoch 9/25\n",
      "243/243 [==============================] - 10s 42ms/step - loss: 0.4349 - accuracy: 0.8591 - auc: 0.9735 - precision: 0.8813 - recall: 0.8340 - val_loss: 0.4193 - val_accuracy: 0.8633 - val_auc: 0.9751 - val_precision: 0.8882 - val_recall: 0.8384\n",
      "Epoch 10/25\n",
      "243/243 [==============================] - 10s 41ms/step - loss: 0.4020 - accuracy: 0.8734 - auc: 0.9767 - precision: 0.8901 - recall: 0.8547 - val_loss: 0.3489 - val_accuracy: 0.8868 - val_auc: 0.9828 - val_precision: 0.8999 - val_recall: 0.8709\n",
      "Epoch 11/25\n",
      "243/243 [==============================] - 10s 42ms/step - loss: 0.3750 - accuracy: 0.8816 - auc: 0.9791 - precision: 0.8945 - recall: 0.8673 - val_loss: 0.3559 - val_accuracy: 0.8908 - val_auc: 0.9805 - val_precision: 0.9003 - val_recall: 0.8804\n",
      "Epoch 12/25\n",
      "243/243 [==============================] - 10s 43ms/step - loss: 0.3640 - accuracy: 0.8849 - auc: 0.9802 - precision: 0.8965 - recall: 0.8719 - val_loss: 0.3481 - val_accuracy: 0.8879 - val_auc: 0.9824 - val_precision: 0.8961 - val_recall: 0.8790\n",
      "Epoch 13/25\n",
      "243/243 [==============================] - 11s 44ms/step - loss: 0.3714 - accuracy: 0.8832 - auc: 0.9796 - precision: 0.8958 - recall: 0.8685 - val_loss: 0.3348 - val_accuracy: 0.8909 - val_auc: 0.9835 - val_precision: 0.9034 - val_recall: 0.8819\n",
      "Epoch 14/25\n",
      "243/243 [==============================] - 10s 42ms/step - loss: 0.3419 - accuracy: 0.8908 - auc: 0.9825 - precision: 0.9025 - recall: 0.8788 - val_loss: 0.3264 - val_accuracy: 0.8988 - val_auc: 0.9848 - val_precision: 0.9075 - val_recall: 0.8867\n",
      "Epoch 15/25\n",
      "243/243 [==============================] - 11s 45ms/step - loss: 0.3349 - accuracy: 0.8941 - auc: 0.9830 - precision: 0.9050 - recall: 0.8821 - val_loss: 0.3097 - val_accuracy: 0.9032 - val_auc: 0.9860 - val_precision: 0.9118 - val_recall: 0.8929\n",
      "Epoch 16/25\n",
      "243/243 [==============================] - 11s 43ms/step - loss: 0.3261 - accuracy: 0.8981 - auc: 0.9836 - precision: 0.9073 - recall: 0.8873 - val_loss: 0.3050 - val_accuracy: 0.8977 - val_auc: 0.9865 - val_precision: 0.9079 - val_recall: 0.8905\n",
      "Epoch 17/25\n",
      "243/243 [==============================] - 11s 44ms/step - loss: 0.3533 - accuracy: 0.8902 - auc: 0.9813 - precision: 0.9015 - recall: 0.8776 - val_loss: 0.3491 - val_accuracy: 0.8881 - val_auc: 0.9830 - val_precision: 0.8978 - val_recall: 0.8777\n",
      "Epoch 18/25\n",
      "243/243 [==============================] - 10s 42ms/step - loss: 0.3203 - accuracy: 0.8997 - auc: 0.9843 - precision: 0.9093 - recall: 0.8899 - val_loss: 0.2974 - val_accuracy: 0.9071 - val_auc: 0.9864 - val_precision: 0.9141 - val_recall: 0.9011\n",
      "Epoch 19/25\n",
      "243/243 [==============================] - 11s 45ms/step - loss: 0.3126 - accuracy: 0.9030 - auc: 0.9848 - precision: 0.9119 - recall: 0.8935 - val_loss: 0.2934 - val_accuracy: 0.9051 - val_auc: 0.9871 - val_precision: 0.9153 - val_recall: 0.8977\n",
      "Epoch 20/25\n",
      "243/243 [==============================] - 10s 42ms/step - loss: 0.3149 - accuracy: 0.9031 - auc: 0.9848 - precision: 0.9112 - recall: 0.8939 - val_loss: 117.9621 - val_accuracy: 0.2570 - val_auc: 0.5314 - val_precision: 0.2543 - val_recall: 0.2497\n",
      "Epoch 21/25\n",
      "243/243 [==============================] - 11s 44ms/step - loss: 0.4480 - accuracy: 0.8576 - auc: 0.9717 - precision: 0.8772 - recall: 0.8381 - val_loss: 0.3695 - val_accuracy: 0.8826 - val_auc: 0.9798 - val_precision: 0.8936 - val_recall: 0.8721\n",
      "Epoch 22/25\n",
      "243/243 [==============================] - 10s 43ms/step - loss: 0.3605 - accuracy: 0.8867 - auc: 0.9803 - precision: 0.8977 - recall: 0.8763 - val_loss: 0.3168 - val_accuracy: 0.9005 - val_auc: 0.9849 - val_precision: 0.9061 - val_recall: 0.8940\n",
      "Epoch 23/25\n",
      "243/243 [==============================] - 11s 44ms/step - loss: 0.3374 - accuracy: 0.8951 - auc: 0.9826 - precision: 0.9038 - recall: 0.8858 - val_loss: 0.3029 - val_accuracy: 0.9055 - val_auc: 0.9864 - val_precision: 0.9109 - val_recall: 0.8978\n",
      "Epoch 24/25\n",
      "243/243 [==============================] - 11s 45ms/step - loss: 0.3280 - accuracy: 0.8990 - auc: 0.9833 - precision: 0.9072 - recall: 0.8903 - val_loss: 0.2963 - val_accuracy: 0.9047 - val_auc: 0.9865 - val_precision: 0.9133 - val_recall: 0.8964\n",
      "Epoch 25/25\n",
      "243/243 [==============================] - 11s 44ms/step - loss: 0.3165 - accuracy: 0.8999 - auc: 0.9847 - precision: 0.9082 - recall: 0.8908 - val_loss: 0.3738 - val_accuracy: 0.8949 - val_auc: 0.9766 - val_precision: 0.9049 - val_recall: 0.8838\n"
     ]
    }
   ],
   "source": [
    "# mkdir for model save path\n",
    "if not os.path.exists(config.model_dir):\n",
    "    os.makedirs(config.model_dir)\n",
    "\n",
    "print(\"Start training:\",config.train_dir)\n",
    "print(\"Model:\", config.model_save_name)\n",
    "\n",
    "history = model.fit(train_generator,\n",
    "                    epochs=config.EPOCHS,\n",
    "                    steps_per_epoch=train_num // config.BATCH_SIZE,\n",
    "                    validation_data=val_generator,\n",
    "                    validation_steps=valid_num // config.BATCH_SIZE,\n",
    "                    callbacks=callbacks,\n",
    "                    #class_weight=class_weights  \n",
    "                   )"
   ]
  },
  {
   "cell_type": "markdown",
   "id": "0ff2519d-e84c-4ce7-b297-79c90b42e441",
   "metadata": {},
   "source": [
    "## Save Model"
   ]
  },
  {
   "cell_type": "code",
   "execution_count": 18,
   "id": "0d6b4b1d",
   "metadata": {},
   "outputs": [],
   "source": [
    "# save the whole model\n",
    "model.save(config.model_dir+config.model_save_name+\"_last.h5\")"
   ]
  },
  {
   "cell_type": "code",
   "execution_count": 19,
   "id": "a33beca3",
   "metadata": {},
   "outputs": [],
   "source": [
    "hist_df = pd.DataFrame(history.history)\n",
    "with open(config.model_dir+\"train_history1.csv\", mode='w') as f:\n",
    "    hist_df.to_csv(f)"
   ]
  },
  {
   "cell_type": "markdown",
   "id": "8b4f3279-ddb3-4671-af8c-2d3acbcaef42",
   "metadata": {},
   "source": [
    "## Evaluate Model"
   ]
  },
  {
   "cell_type": "code",
   "execution_count": 20,
   "id": "c79a33ae",
   "metadata": {},
   "outputs": [
    {
     "name": "stdout",
     "output_type": "stream",
     "text": [
      "Found 31107 images belonging to 5 classes.\n",
      "Found 7811 images belonging to 5 classes.\n",
      "Found 5099 images belonging to 5 classes.\n",
      "39/39 [==============================] - 1s 28ms/step - loss: 0.3368 - accuracy: 0.9004 - auc: 0.9811 - precision: 0.9091 - recall: 0.8890\n",
      "result of  trained_models/geospatial/EfficientNetB0/\n",
      "The accuracy on test set is: 90.044%\n",
      "The auc on test set is: 98.110%\n",
      "The precision on test set is: 90.905%\n",
      "The recall on test set is: 88.902%\n",
      "40/40 [==============================] - 1s 26ms/step\n",
      "[time taken for inference] 1.128999948501587\n",
      "[time taken per image] 0.00022  seconds\n",
      "[ lables_array ] \n",
      "[0 0 0 ... 4 4 4]\n",
      "[ predictions ] \n",
      "[1 0 1 ... 4 4 4]\n",
      "              precision    recall  f1-score   support\n",
      "\n",
      "           0     0.9299    0.8346    0.8797      1590\n",
      "           1     0.8576    0.9815    0.9154      2000\n",
      "           2     0.8084    0.5094    0.6250       265\n",
      "           3     0.9077    0.8252    0.8645       286\n",
      "           4     0.9812    0.9791    0.9801       958\n",
      "\n",
      "    accuracy                         0.9019      5099\n",
      "   macro avg     0.8969    0.8260    0.8529      5099\n",
      "weighted avg     0.9036    0.9019    0.8985      5099\n",
      "\n"
     ]
    }
   ],
   "source": [
    "# Evaluation\n",
    "eval_model(model, set_num)"
   ]
  },
  {
   "cell_type": "code",
   "execution_count": null,
   "id": "9b0fe6bb-9343-4825-92b5-a343c85917c5",
   "metadata": {},
   "outputs": [],
   "source": []
  },
  {
   "cell_type": "markdown",
   "id": "38b97bc8-9534-4c81-90e9-fb0f5e5294f9",
   "metadata": {},
   "source": [
    "## Inference Example"
   ]
  },
  {
   "cell_type": "code",
   "execution_count": 15,
   "id": "0657b472",
   "metadata": {},
   "outputs": [],
   "source": [
    "import numpy as np\n",
    "def test_single_image(img_dir, model):\n",
    "    img_raw = tf.io.read_file(img_dir)\n",
    "    img_tensor = tf.image.decode_jpeg(img_raw, channels=config.channels)\n",
    "    img_tensor = tf.image.resize(img_tensor, [config.image_height, config.image_width])\n",
    "\n",
    "    img_numpy = img_tensor.numpy()\n",
    "    img_numpy = (np.expand_dims(img_numpy, 0))\n",
    "    img_tensor = tf.convert_to_tensor(img_numpy, tf.float32)\n",
    "\n",
    "#     img_tensor = img_tensor / 255.0 # uncomment if model included rescale preprocessing layer\n",
    "    prob = model(tf.image.resize(img_tensor,[config.image_width,config.image_height]))\n",
    "\n",
    "    \n",
    "    probability = np.max(prob)\n",
    "\n",
    "    classification = np.argmax(prob)\n",
    "    return classification, probability"
   ]
  },
  {
   "cell_type": "code",
   "execution_count": 16,
   "id": "d87fc9dc",
   "metadata": {},
   "outputs": [
    {
     "name": "stdout",
     "output_type": "stream",
     "text": [
      "D:\\project_geo\\code_test_changed_stride\\5folds_with_test_updated1\\test\\Vegetation\\tile1_003_vegetation_x608_y160.png\n"
     ]
    },
    {
     "ename": "UnicodeDecodeError",
     "evalue": "'utf-8' codec can't decode byte 0xd5 in position 256: invalid continuation byte",
     "output_type": "error",
     "traceback": [
      "\u001b[1;31m---------------------------------------------------------------------------\u001b[0m",
      "\u001b[1;31mUnicodeDecodeError\u001b[0m                        Traceback (most recent call last)",
      "Cell \u001b[1;32mIn[16], line 4\u001b[0m\n\u001b[0;32m      2\u001b[0m last_model \u001b[38;5;241m=\u001b[39m model\n\u001b[0;32m      3\u001b[0m \u001b[38;5;28mprint\u001b[39m(config\u001b[38;5;241m.\u001b[39mtest_image_path)\n\u001b[1;32m----> 4\u001b[0m classification_result, probability \u001b[38;5;241m=\u001b[39m \u001b[43mtest_single_image\u001b[49m\u001b[43m(\u001b[49m\u001b[43mconfig\u001b[49m\u001b[38;5;241;43m.\u001b[39;49m\u001b[43mtest_image_path\u001b[49m\u001b[43m,\u001b[49m\u001b[43m \u001b[49m\u001b[43mlast_model\u001b[49m\u001b[43m)\u001b[49m\n\u001b[0;32m      5\u001b[0m \u001b[38;5;28mprint\u001b[39m(\u001b[38;5;124m\"\u001b[39m\u001b[38;5;124mclass : \u001b[39m\u001b[38;5;124m\"\u001b[39m,classification_result\u001b[38;5;241m+\u001b[39m\u001b[38;5;241m1\u001b[39m,\u001b[38;5;124m\"\u001b[39m\u001b[38;5;124mof\u001b[39m\u001b[38;5;124m\"\u001b[39m,probability,\u001b[38;5;124m\"\u001b[39m\u001b[38;5;124m%\u001b[39m\u001b[38;5;124m\"\u001b[39m)\n",
      "Cell \u001b[1;32mIn[15], line 3\u001b[0m, in \u001b[0;36mtest_single_image\u001b[1;34m(img_dir, model)\u001b[0m\n\u001b[0;32m      2\u001b[0m \u001b[38;5;28;01mdef\u001b[39;00m \u001b[38;5;21mtest_single_image\u001b[39m(img_dir, model):\n\u001b[1;32m----> 3\u001b[0m     img_raw \u001b[38;5;241m=\u001b[39m \u001b[43mtf\u001b[49m\u001b[38;5;241;43m.\u001b[39;49m\u001b[43mio\u001b[49m\u001b[38;5;241;43m.\u001b[39;49m\u001b[43mread_file\u001b[49m\u001b[43m(\u001b[49m\u001b[43mimg_dir\u001b[49m\u001b[43m)\u001b[49m\n\u001b[0;32m      4\u001b[0m     img_tensor \u001b[38;5;241m=\u001b[39m tf\u001b[38;5;241m.\u001b[39mimage\u001b[38;5;241m.\u001b[39mdecode_jpeg(img_raw, channels\u001b[38;5;241m=\u001b[39mconfig\u001b[38;5;241m.\u001b[39mchannels)\n\u001b[0;32m      5\u001b[0m     img_tensor \u001b[38;5;241m=\u001b[39m tf\u001b[38;5;241m.\u001b[39mimage\u001b[38;5;241m.\u001b[39mresize(img_tensor, [config\u001b[38;5;241m.\u001b[39mimage_height, config\u001b[38;5;241m.\u001b[39mimage_width])\n",
      "File \u001b[1;32mD:\\anaconda3\\envs\\env1\\lib\\site-packages\\tensorflow\\python\\ops\\io_ops.py:133\u001b[0m, in \u001b[0;36mread_file\u001b[1;34m(filename, name)\u001b[0m\n\u001b[0;32m     96\u001b[0m \u001b[38;5;129m@tf_export\u001b[39m(\u001b[38;5;124m\"\u001b[39m\u001b[38;5;124mio.read_file\u001b[39m\u001b[38;5;124m\"\u001b[39m, v1\u001b[38;5;241m=\u001b[39m[\u001b[38;5;124m\"\u001b[39m\u001b[38;5;124mio.read_file\u001b[39m\u001b[38;5;124m\"\u001b[39m, \u001b[38;5;124m\"\u001b[39m\u001b[38;5;124mread_file\u001b[39m\u001b[38;5;124m\"\u001b[39m])\n\u001b[0;32m     97\u001b[0m \u001b[38;5;28;01mdef\u001b[39;00m \u001b[38;5;21mread_file\u001b[39m(filename, name\u001b[38;5;241m=\u001b[39m\u001b[38;5;28;01mNone\u001b[39;00m):\n\u001b[0;32m     98\u001b[0m \u001b[38;5;250m  \u001b[39m\u001b[38;5;124;03m\"\"\"Reads the contents of file.\u001b[39;00m\n\u001b[0;32m     99\u001b[0m \n\u001b[0;32m    100\u001b[0m \u001b[38;5;124;03m  This operation returns a tensor with the entire contents of the input\u001b[39;00m\n\u001b[1;32m   (...)\u001b[0m\n\u001b[0;32m    131\u001b[0m \u001b[38;5;124;03m    A tensor of dtype \"string\", with the file contents.\u001b[39;00m\n\u001b[0;32m    132\u001b[0m \u001b[38;5;124;03m  \"\"\"\u001b[39;00m\n\u001b[1;32m--> 133\u001b[0m   \u001b[38;5;28;01mreturn\u001b[39;00m \u001b[43mgen_io_ops\u001b[49m\u001b[38;5;241;43m.\u001b[39;49m\u001b[43mread_file\u001b[49m\u001b[43m(\u001b[49m\u001b[43mfilename\u001b[49m\u001b[43m,\u001b[49m\u001b[43m \u001b[49m\u001b[43mname\u001b[49m\u001b[43m)\u001b[49m\n",
      "File \u001b[1;32mD:\\anaconda3\\envs\\env1\\lib\\site-packages\\tensorflow\\python\\ops\\gen_io_ops.py:581\u001b[0m, in \u001b[0;36mread_file\u001b[1;34m(filename, name)\u001b[0m\n\u001b[0;32m    579\u001b[0m   \u001b[38;5;28;01mpass\u001b[39;00m\n\u001b[0;32m    580\u001b[0m \u001b[38;5;28;01mtry\u001b[39;00m:\n\u001b[1;32m--> 581\u001b[0m   \u001b[38;5;28;01mreturn\u001b[39;00m \u001b[43mread_file_eager_fallback\u001b[49m\u001b[43m(\u001b[49m\n\u001b[0;32m    582\u001b[0m \u001b[43m      \u001b[49m\u001b[43mfilename\u001b[49m\u001b[43m,\u001b[49m\u001b[43m \u001b[49m\u001b[43mname\u001b[49m\u001b[38;5;241;43m=\u001b[39;49m\u001b[43mname\u001b[49m\u001b[43m,\u001b[49m\u001b[43m \u001b[49m\u001b[43mctx\u001b[49m\u001b[38;5;241;43m=\u001b[39;49m\u001b[43m_ctx\u001b[49m\u001b[43m)\u001b[49m\n\u001b[0;32m    583\u001b[0m \u001b[38;5;28;01mexcept\u001b[39;00m _core\u001b[38;5;241m.\u001b[39m_SymbolicException:\n\u001b[0;32m    584\u001b[0m   \u001b[38;5;28;01mpass\u001b[39;00m  \u001b[38;5;66;03m# Add nodes to the TensorFlow graph.\u001b[39;00m\n",
      "File \u001b[1;32mD:\\anaconda3\\envs\\env1\\lib\\site-packages\\tensorflow\\python\\ops\\gen_io_ops.py:604\u001b[0m, in \u001b[0;36mread_file_eager_fallback\u001b[1;34m(filename, name, ctx)\u001b[0m\n\u001b[0;32m    602\u001b[0m _inputs_flat \u001b[38;5;241m=\u001b[39m [filename]\n\u001b[0;32m    603\u001b[0m _attrs \u001b[38;5;241m=\u001b[39m \u001b[38;5;28;01mNone\u001b[39;00m\n\u001b[1;32m--> 604\u001b[0m _result \u001b[38;5;241m=\u001b[39m \u001b[43m_execute\u001b[49m\u001b[38;5;241;43m.\u001b[39;49m\u001b[43mexecute\u001b[49m\u001b[43m(\u001b[49m\u001b[38;5;124;43mb\u001b[39;49m\u001b[38;5;124;43m\"\u001b[39;49m\u001b[38;5;124;43mReadFile\u001b[39;49m\u001b[38;5;124;43m\"\u001b[39;49m\u001b[43m,\u001b[49m\u001b[43m \u001b[49m\u001b[38;5;241;43m1\u001b[39;49m\u001b[43m,\u001b[49m\u001b[43m \u001b[49m\u001b[43minputs\u001b[49m\u001b[38;5;241;43m=\u001b[39;49m\u001b[43m_inputs_flat\u001b[49m\u001b[43m,\u001b[49m\n\u001b[0;32m    605\u001b[0m \u001b[43m                           \u001b[49m\u001b[43mattrs\u001b[49m\u001b[38;5;241;43m=\u001b[39;49m\u001b[43m_attrs\u001b[49m\u001b[43m,\u001b[49m\u001b[43m \u001b[49m\u001b[43mctx\u001b[49m\u001b[38;5;241;43m=\u001b[39;49m\u001b[43mctx\u001b[49m\u001b[43m,\u001b[49m\u001b[43m \u001b[49m\u001b[43mname\u001b[49m\u001b[38;5;241;43m=\u001b[39;49m\u001b[43mname\u001b[49m\u001b[43m)\u001b[49m\n\u001b[0;32m    606\u001b[0m \u001b[38;5;28;01mif\u001b[39;00m _execute\u001b[38;5;241m.\u001b[39mmust_record_gradient():\n\u001b[0;32m    607\u001b[0m   _execute\u001b[38;5;241m.\u001b[39mrecord_gradient(\n\u001b[0;32m    608\u001b[0m       \u001b[38;5;124m\"\u001b[39m\u001b[38;5;124mReadFile\u001b[39m\u001b[38;5;124m\"\u001b[39m, _inputs_flat, _attrs, _result)\n",
      "File \u001b[1;32mD:\\anaconda3\\envs\\env1\\lib\\site-packages\\tensorflow\\python\\eager\\execute.py:54\u001b[0m, in \u001b[0;36mquick_execute\u001b[1;34m(op_name, num_outputs, inputs, attrs, ctx, name)\u001b[0m\n\u001b[0;32m     52\u001b[0m \u001b[38;5;28;01mtry\u001b[39;00m:\n\u001b[0;32m     53\u001b[0m   ctx\u001b[38;5;241m.\u001b[39mensure_initialized()\n\u001b[1;32m---> 54\u001b[0m   tensors \u001b[38;5;241m=\u001b[39m \u001b[43mpywrap_tfe\u001b[49m\u001b[38;5;241;43m.\u001b[39;49m\u001b[43mTFE_Py_Execute\u001b[49m\u001b[43m(\u001b[49m\u001b[43mctx\u001b[49m\u001b[38;5;241;43m.\u001b[39;49m\u001b[43m_handle\u001b[49m\u001b[43m,\u001b[49m\u001b[43m \u001b[49m\u001b[43mdevice_name\u001b[49m\u001b[43m,\u001b[49m\u001b[43m \u001b[49m\u001b[43mop_name\u001b[49m\u001b[43m,\u001b[49m\n\u001b[0;32m     55\u001b[0m \u001b[43m                                      \u001b[49m\u001b[43minputs\u001b[49m\u001b[43m,\u001b[49m\u001b[43m \u001b[49m\u001b[43mattrs\u001b[49m\u001b[43m,\u001b[49m\u001b[43m \u001b[49m\u001b[43mnum_outputs\u001b[49m\u001b[43m)\u001b[49m\n\u001b[0;32m     56\u001b[0m \u001b[38;5;28;01mexcept\u001b[39;00m core\u001b[38;5;241m.\u001b[39m_NotOkStatusException \u001b[38;5;28;01mas\u001b[39;00m e:\n\u001b[0;32m     57\u001b[0m   \u001b[38;5;28;01mif\u001b[39;00m name \u001b[38;5;129;01mis\u001b[39;00m \u001b[38;5;129;01mnot\u001b[39;00m \u001b[38;5;28;01mNone\u001b[39;00m:\n",
      "\u001b[1;31mUnicodeDecodeError\u001b[0m: 'utf-8' codec can't decode byte 0xd5 in position 256: invalid continuation byte"
     ]
    }
   ],
   "source": [
    "# detect samples w last model\n",
    "last_model = model\n",
    "print(config.test_image_path)\n",
    "classification_result, probability = test_single_image(config.test_image_path, last_model)\n",
    "print(\"class : \",classification_result+1,\"of\",probability,\"%\")"
   ]
  },
  {
   "cell_type": "code",
   "execution_count": null,
   "id": "3f17a0b0",
   "metadata": {},
   "outputs": [],
   "source": [
    "# detect samples w best model\n",
    "# best_model = tf.keras.models.load_model(config.model_dir+config.model_save_name+\"_best.h5\")\n",
    "best_model = get_model()\n",
    "best_model.load_weights(config.model_dir+config.model_save_name+\"_best.keras\")\n",
    "print(config.test_image_path)\n",
    "classification_result, probability = test_single_image(config.test_image_path, best_model)\n",
    "print(\"class : \",classification_result+1,\"of\",probability,\"%\")"
   ]
  },
  {
   "cell_type": "code",
   "execution_count": null,
   "id": "ca7d9b97-9177-48ed-a0cc-a3d711aa9d4c",
   "metadata": {
    "tags": []
   },
   "outputs": [],
   "source": [
    "eval_model(best_model)"
   ]
  },
  {
   "cell_type": "code",
   "execution_count": null,
   "id": "d03ecaf2-d9bf-4099-8273-0019506a1291",
   "metadata": {},
   "outputs": [],
   "source": []
  }
 ],
 "metadata": {
  "kernelspec": {
   "display_name": "Python 3 (ipykernel)",
   "language": "python",
   "name": "python3"
  },
  "language_info": {
   "codemirror_mode": {
    "name": "ipython",
    "version": 3
   },
   "file_extension": ".py",
   "mimetype": "text/x-python",
   "name": "python",
   "nbconvert_exporter": "python",
   "pygments_lexer": "ipython3",
   "version": "3.9.2"
  }
 },
 "nbformat": 4,
 "nbformat_minor": 5
}
