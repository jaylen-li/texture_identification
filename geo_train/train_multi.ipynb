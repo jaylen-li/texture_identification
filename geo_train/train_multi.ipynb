{
 "cells": [
  {
   "cell_type": "code",
   "execution_count": 1,
   "id": "91c2e1b5",
   "metadata": {
    "editable": true,
    "slideshow": {
     "slide_type": ""
    },
    "tags": []
   },
   "outputs": [
    {
     "name": "stderr",
     "output_type": "stream",
     "text": [
      "<frozen importlib._bootstrap>:228: RuntimeWarning: scipy._lib.messagestream.MessageStream size changed, may indicate binary incompatibility. Expected 56 from C header, got 64 from PyObject\n"
     ]
    }
   ],
   "source": [
    "\"\"\"\n",
    "Author https://github.com/boguss1225\n",
    "Reference : https://github.com/calmisential/TensorFlow2.0_Image_Classification\n",
    "\"\"\"\n",
    "from __future__ import absolute_import, division, print_function\n",
    "import tensorflow as tf\n",
    "import pandas as pd\n",
    "import config\n",
    "from utils.evaluate import eval_model\n",
    "from utils.prepare_data import get_datasets, get_datasets_autosplit\n",
    "from utils.pretrained_models import pretrained_model\n",
    "import matplotlib.pyplot as pltget_datasets_autosplit\n",
    "import numpy as np\n",
    "import random\n",
    "import tensorflow as tf\n",
    "import matplotlib.pyplot as plt\n"
   ]
  },
  {
   "cell_type": "code",
   "execution_count": 2,
   "id": "d214830f-174b-4790-bab0-964ec5f8e33c",
   "metadata": {},
   "outputs": [
    {
     "name": "stdout",
     "output_type": "stream",
     "text": [
      "Num GPUs Available:  1\n"
     ]
    }
   ],
   "source": [
    "import tensorflow as tf\n",
    "print(\"Num GPUs Available: \", len(tf.config.list_physical_devices('GPU')))\n"
   ]
  },
  {
   "cell_type": "markdown",
   "id": "41e1ba2d-440b-48e2-bb95-ab660e44b738",
   "metadata": {},
   "source": [
    "## Select GPU"
   ]
  },
  {
   "cell_type": "code",
   "execution_count": 3,
   "id": "2729f1b5",
   "metadata": {},
   "outputs": [],
   "source": [
    "import os\n",
    "os.environ[\"CUDA_VISIBLE_DEVICES\"]=\"0\"\n",
    "# os.environ[\"CUDA_HOME\"]\n",
    "\n",
    "# Set random seeds\n",
    "seed = 42\n",
    "random.seed(seed)\n",
    "np.random.seed(seed)\n",
    "tf.random.set_seed(seed)\n",
    "\n",
    "#os.environ['PYTHONHASHSEED'] = str(seed)\n",
    "#os.environ['TF_DETERMINISTIC_OPS'] = '1'"
   ]
  },
  {
   "cell_type": "code",
   "execution_count": 4,
   "id": "d7854be8",
   "metadata": {},
   "outputs": [],
   "source": [
    "# GPU settings\n",
    "gpus = tf.config.experimental.list_physical_devices('GPU')\n",
    "if gpus:\n",
    "    for gpu in gpus:\n",
    "        tf.config.experimental.set_memory_growth(gpu, True)"
   ]
  },
  {
   "cell_type": "code",
   "execution_count": 5,
   "id": "69ed2e82-186e-4dff-bea2-35e6b70dbc71",
   "metadata": {},
   "outputs": [
    {
     "data": {
      "text/plain": [
       "[PhysicalDevice(name='/physical_device:GPU:0', device_type='GPU')]"
      ]
     },
     "execution_count": 5,
     "metadata": {},
     "output_type": "execute_result"
    }
   ],
   "source": [
    "gpus"
   ]
  },
  {
   "cell_type": "markdown",
   "id": "c3c878a0-2833-4421-a2ae-43e92a3de2d2",
   "metadata": {},
   "source": [
    "## Select Model"
   ]
  },
  {
   "cell_type": "code",
   "execution_count": 6,
   "id": "83bb72f1",
   "metadata": {},
   "outputs": [],
   "source": [
    "available_models=[\"Xception\",\n",
    "                  \"EfficientNetB0\", \"EfficientNetB1\", \"EfficientNetB2\",\n",
    "                  \"EfficientNetB3\", \"EfficientNetB4\", \"EfficientNetB5\",\n",
    "                  \"EfficientNetB6\", \"EfficientNetB7\",\n",
    "                  \"EfficientNetV2B0\", \"EfficientNetV2B1\",\n",
    "                  \"EfficientNetV2B2\", \"EfficientNetV2B3\",\n",
    "                  \"EfficientNetV2S\", \"EfficientNetV2M\", \"EfficientNetV2L\",\n",
    "                  \"VGG16\",\"VGG19\",\n",
    "                  \"DenseNet121\", \"DenseNet169\", \"DenseNet201\",\n",
    "                  \"NASNetLarge\",\"NASNetMobile\",\n",
    "                  \"InceptionV3\",\"InceptionResNetV2\"\n",
    "                  ]\n",
    "\n",
    "def get_model():\n",
    "    model = pretrained_model(model_name=\"EfficientNetB0\",\n",
    "                            load_weight=None)\n",
    "\n",
    "    model.compile(loss=tf.keras.losses.categorical_crossentropy,\n",
    "                  optimizer=tf.keras.optimizers.Adam(learning_rate=0.005),\n",
    "                  metrics=['accuracy', # add more metrics if you want\n",
    "                            tf.keras.metrics.AUC(),\n",
    "                            tf.keras.metrics.Precision(),\n",
    "                            tf.keras.metrics.Recall(),\n",
    "                            ])\n",
    "    return model"
   ]
  },
  {
   "cell_type": "markdown",
   "id": "d30cffeb-d304-48dc-8a65-d6a32238dc21",
   "metadata": {},
   "source": [
    "## Load Data"
   ]
  },
  {
   "cell_type": "code",
   "execution_count": 7,
   "id": "3a6fac01",
   "metadata": {},
   "outputs": [
    {
     "name": "stdout",
     "output_type": "stream",
     "text": [
      "Found 49231 images belonging to 5 classes.\n",
      "Found 12500 images belonging to 5 classes.\n",
      "Found 5099 images belonging to 5 classes.\n"
     ]
    }
   ],
   "source": [
    "# Load Data with manual data split\n",
    "# train_generator, valid_generator, test_generator, \\\n",
    "# train_num, valid_num, test_num = get_datasets()\n",
    "\n",
    "# Load Data with auto split\n",
    "#train_generator, valid_generator, test_generator, \\\n",
    "#train_num, valid_num, test_num = get_datasets_autosplit()\n",
    "set_num = 4\n",
    "train_generator, val_generator, test_generator, train_num, valid_num, test_num = get_datasets(set_num)"
   ]
  },
  {
   "cell_type": "code",
   "execution_count": 8,
   "id": "618c40b6",
   "metadata": {},
   "outputs": [
    {
     "data": {
      "text/plain": [
       "32"
      ]
     },
     "execution_count": 8,
     "metadata": {},
     "output_type": "execute_result"
    }
   ],
   "source": [
    "\"\"\"\n",
    "Apply image data augmentation in 'utils.prepare_data.py' manually\n",
    "\"\"\"\n",
    "config.image_height"
   ]
  },
  {
   "cell_type": "markdown",
   "id": "f18b1273-728d-48da-96ef-0dbe517023ff",
   "metadata": {},
   "source": [
    "## Visualize the data after augmentaion"
   ]
  },
  {
   "cell_type": "code",
   "execution_count": 9,
   "id": "1b1fac3d",
   "metadata": {
    "scrolled": true
   },
   "outputs": [
    {
     "data": {
      "image/png": "[encoded data removed]",
      "text/plain": [
       "<Figure size 1000x1000 with 9 Axes>"
      ]
     },
     "metadata": {},
     "output_type": "display_data"
    }
   ],
   "source": [
    "\"\"\"\n",
    "Here are the first 9 images in the training dataset. \n",
    "Label 0 :Building\n",
    "Label 1 :Land_(unpaved_area)\n",
    "Label 2 :Road\n",
    "Label 3 :Vegetation\n",
    "Label 4 :Water\n",
    "\"\"\"\n",
    "if config.BATCH_SIZE > 9:\n",
    "    range_val = 9\n",
    "else:\n",
    "    range_val = config.BATCH_SIZE\n",
    "\n",
    "# Get the mapping from class indices to class names\n",
    "class_indices = {v: k for k, v in train_generator.class_indices.items()}\n",
    "\n",
    "plt.figure(figsize=(10, 10))\n",
    "for i in range(range_val):\n",
    "    ax = plt.subplot(3, 3, i + 1)\n",
    "    img, label = next(train_generator)  # Get the image and label\n",
    "    \n",
    "    # Extract the numeric label (0~5)\n",
    "    label_number = label[0].argmax()  # The label index (0~5)\n",
    "    \n",
    "    # Map the numeric label to the class name\n",
    "    class_name = class_indices[label_number]\n",
    "    \n",
    "    # Display the image\n",
    "    plt.imshow(img[0].astype(\"uint8\"))\n",
    "    \n",
    "    # Show the full class name and label number\n",
    "    plt.title(f\"{class_name}: {label_number}\", fontsize=10)\n",
    "    plt.axis(\"off\")\n",
    "\n",
    "plt.show()\n",
    "\n"
   ]
  },
  {
   "cell_type": "markdown",
   "id": "eefde02f-7d04-4cc6-85db-6e2dfb9ab463",
   "metadata": {},
   "source": [
    "## Callbacks"
   ]
  },
  {
   "cell_type": "code",
   "execution_count": 10,
   "id": "305cd3a5",
   "metadata": {},
   "outputs": [],
   "source": [
    "\"\"\"\n",
    "Callbacks\n",
    "\"\"\"\n",
    "\n",
    "# tensorboard = tf.keras.callbacks.TensorBoard(log_dir='log')\n",
    "\n",
    "model_checkpoint_callback = tf.keras.callbacks.ModelCheckpoint(\n",
    "    filepath=config.model_dir + config.model_save_name + \"_best.weights.h5\",  # Change extension to .weights.h5\n",
    "    #filepath=config.model_dir+config.model_save_name+\"_best.keras\",\n",
    "    save_weights_only=True,\n",
    "    monitor='val_accuracy',\n",
    "    mode='max',\n",
    "    save_best_only=True\n",
    ")\n",
    "\n",
    "early_stop_callback = tf.keras.callbacks.EarlyStopping(\n",
    "    monitor=\"loss\",\n",
    "    patience=20,\n",
    "    restore_best_weights=True\n",
    ")\n",
    "\n",
    "callbacks = [\n",
    "#     tensorboard, \n",
    "    model_checkpoint_callback, \n",
    "    early_stop_callback\n",
    "]"
   ]
  },
  {
   "cell_type": "code",
   "execution_count": 11,
   "id": "d0f3db0d",
   "metadata": {},
   "outputs": [],
   "source": [
    "model = get_model()\n",
    "# tf.keras.utils.plot_model(model, show_shapes=True)"
   ]
  },
  {
   "cell_type": "markdown",
   "id": "76247302-7122-4663-9d61-dbdb1c9fc8d8",
   "metadata": {},
   "source": [
    "## Train the model"
   ]
  },
  {
   "cell_type": "code",
   "execution_count": null,
   "id": "2b9e691a-ff66-443d-bf26-298684d11a7c",
   "metadata": {
    "tags": []
   },
   "outputs": [
    {
     "name": "stdout",
     "output_type": "stream",
     "text": [
      "Start training: D:/project_geo/code_test_combined/5folds_with_test_updated_combined_ver3/set_{set}/train\n",
      "Model: EfficientNetB0\n",
      "Epoch 1/300\n",
      "384/384 [==============================] - 53s 119ms/step - loss: 0.5084 - accuracy: 0.8448 - auc: 0.9679 - precision: 0.8831 - recall: 0.8139 - val_loss: 19.3827 - val_accuracy: 0.4610 - val_auc: 0.7445 - val_precision: 0.5168 - val_recall: 0.3487\n",
      "Epoch 2/300\n",
      "384/384 [==============================] - 16s 43ms/step - loss: 0.3337 - accuracy: 0.8958 - auc: 0.9846 - precision: 0.9175 - recall: 0.8781 - val_loss: 1.1943 - val_accuracy: 0.6013 - val_auc: 0.8701 - val_precision: 0.7186 - val_recall: 0.5871\n",
      "Epoch 3/300\n",
      "384/384 [==============================] - 16s 42ms/step - loss: 0.2530 - accuracy: 0.9202 - auc: 0.9901 - precision: 0.9297 - recall: 0.9106 - val_loss: 1.3320 - val_accuracy: 0.7090 - val_auc: 0.8573 - val_precision: 0.7310 - val_recall: 0.6840\n",
      "Epoch 4/300\n",
      "384/384 [==============================] - 17s 44ms/step - loss: 0.2393 - accuracy: 0.9278 - auc: 0.9909 - precision: 0.9360 - recall: 0.9197 - val_loss: 1.3060 - val_accuracy: 0.6919 - val_auc: 0.8434 - val_precision: 0.7202 - val_recall: 0.6726\n",
      "Epoch 5/300\n",
      "384/384 [==============================] - 17s 43ms/step - loss: 0.2448 - accuracy: 0.9248 - auc: 0.9903 - precision: 0.9356 - recall: 0.9159 - val_loss: 1.6281 - val_accuracy: 0.5258 - val_auc: 0.8494 - val_precision: 0.5375 - val_recall: 0.5172\n",
      "Epoch 6/300\n",
      "384/384 [==============================] - 16s 41ms/step - loss: 0.2758 - accuracy: 0.9202 - auc: 0.9896 - precision: 0.9296 - recall: 0.9111 - val_loss: 1.0126 - val_accuracy: 0.6254 - val_auc: 0.8893 - val_precision: 0.7090 - val_recall: 0.5845\n",
      "Epoch 7/300\n",
      "384/384 [==============================] - 16s 41ms/step - loss: 0.3230 - accuracy: 0.9075 - auc: 0.9866 - precision: 0.9218 - recall: 0.8951 - val_loss: 114.7049 - val_accuracy: 0.5025 - val_auc: 0.7516 - val_precision: 0.5073 - val_recall: 0.4957\n",
      "Epoch 8/300\n",
      "384/384 [==============================] - 17s 43ms/step - loss: 0.2826 - accuracy: 0.9184 - auc: 0.9885 - precision: 0.9275 - recall: 0.9097 - val_loss: 1.2639 - val_accuracy: 0.5887 - val_auc: 0.8410 - val_precision: 0.6181 - val_recall: 0.5571\n",
      "Epoch 9/300\n",
      "384/384 [==============================] - 17s 44ms/step - loss: 0.2294 - accuracy: 0.9307 - auc: 0.9915 - precision: 0.9372 - recall: 0.9235 - val_loss: 1.4658 - val_accuracy: 0.7101 - val_auc: 0.8468 - val_precision: 0.7354 - val_recall: 0.6786\n",
      "Epoch 10/300\n",
      "384/384 [==============================] - 16s 43ms/step - loss: 0.2609 - accuracy: 0.9193 - auc: 0.9899 - precision: 0.9303 - recall: 0.9097 - val_loss: 974.1819 - val_accuracy: 0.2809 - val_auc: 0.5608 - val_precision: 0.2813 - val_recall: 0.2801\n",
      "Epoch 11/300\n",
      "116/384 [========>.....................] - ETA: 9s - loss: 0.3445 - accuracy: 0.9018 - auc: 0.9856 - precision: 0.9162 - recall: 0.8892"
     ]
    }
   ],
   "source": [
    "# mkdir for model save path\n",
    "if not os.path.exists(config.model_dir):\n",
    "    os.makedirs(config.model_dir)\n",
    "\n",
    "print(\"Start training:\",config.train_dir)\n",
    "print(\"Model:\", config.model_save_name)\n",
    "\n",
    "history = model.fit(train_generator,\n",
    "                    epochs=config.EPOCHS,\n",
    "                    steps_per_epoch=train_num // config.BATCH_SIZE,\n",
    "                    validation_data=val_generator,\n",
    "                    validation_steps=valid_num // config.BATCH_SIZE,\n",
    "                    callbacks=callbacks,\n",
    "                    #class_weight=class_weights  \n",
    "                   )"
   ]
  },
  {
   "cell_type": "markdown",
   "id": "0ff2519d-e84c-4ce7-b297-79c90b42e441",
   "metadata": {},
   "source": [
    "## Save Model"
   ]
  },
  {
   "cell_type": "code",
   "execution_count": null,
   "id": "0d6b4b1d",
   "metadata": {},
   "outputs": [],
   "source": [
    "# save the whole model\n",
    "model.save(config.model_dir+config.model_save_name+\"_last.h5\")"
   ]
  },
  {
   "cell_type": "code",
   "execution_count": null,
   "id": "a33beca3",
   "metadata": {},
   "outputs": [],
   "source": [
    "hist_df = pd.DataFrame(history.history)\n",
    "with open(config.model_dir+\"train_history1.csv\", mode='w') as f:\n",
    "    hist_df.to_csv(f)"
   ]
  },
  {
   "cell_type": "markdown",
   "id": "8b4f3279-ddb3-4671-af8c-2d3acbcaef42",
   "metadata": {},
   "source": [
    "## Evaluate Model"
   ]
  },
  {
   "cell_type": "code",
   "execution_count": null,
   "id": "c79a33ae",
   "metadata": {},
   "outputs": [],
   "source": [
    "# Evaluation\n",
    "eval_model(model, set_num)"
   ]
  },
  {
   "cell_type": "code",
   "execution_count": null,
   "id": "9b0fe6bb-9343-4825-92b5-a343c85917c5",
   "metadata": {},
   "outputs": [],
   "source": []
  },
  {
   "cell_type": "markdown",
   "id": "38b97bc8-9534-4c81-90e9-fb0f5e5294f9",
   "metadata": {},
   "source": [
    "## Inference Example"
   ]
  },
  {
   "cell_type": "code",
   "execution_count": null,
   "id": "0657b472",
   "metadata": {},
   "outputs": [],
   "source": [
    "import numpy as np\n",
    "def test_single_image(img_dir, model):\n",
    "    img_raw = tf.io.read_file(img_dir)\n",
    "    img_tensor = tf.image.decode_jpeg(img_raw, channels=config.channels)\n",
    "    img_tensor = tf.image.resize(img_tensor, [config.image_height, config.image_width])\n",
    "\n",
    "    img_numpy = img_tensor.numpy()\n",
    "    img_numpy = (np.expand_dims(img_numpy, 0))\n",
    "    img_tensor = tf.convert_to_tensor(img_numpy, tf.float32)\n",
    "\n",
    "#     img_tensor = img_tensor / 255.0 # uncomment if model included rescale preprocessing layer\n",
    "    prob = model(tf.image.resize(img_tensor,[config.image_width,config.image_height]))\n",
    "\n",
    "    \n",
    "    probability = np.max(prob)\n",
    "\n",
    "    classification = np.argmax(prob)\n",
    "    return classification, probability"
   ]
  },
  {
   "cell_type": "code",
   "execution_count": null,
   "id": "d87fc9dc",
   "metadata": {},
   "outputs": [],
   "source": [
    "# detect samples w last model\n",
    "last_model = model\n",
    "print(config.test_image_path)\n",
    "classification_result, probability = test_single_image(config.test_image_path, last_model)\n",
    "print(\"class : \",classification_result+1,\"of\",probability,\"%\")"
   ]
  },
  {
   "cell_type": "code",
   "execution_count": null,
   "id": "3f17a0b0",
   "metadata": {},
   "outputs": [],
   "source": [
    "# detect samples w best model\n",
    "# best_model = tf.keras.models.load_model(config.model_dir+config.model_save_name+\"_best.h5\")\n",
    "best_model = get_model()\n",
    "best_model.load_weights(config.model_dir+config.model_save_name+\"_best.keras\")\n",
    "print(config.test_image_path)\n",
    "classification_result, probability = test_single_image(config.test_image_path, best_model)\n",
    "print(\"class : \",classification_result+1,\"of\",probability,\"%\")"
   ]
  },
  {
   "cell_type": "code",
   "execution_count": null,
   "id": "ca7d9b97-9177-48ed-a0cc-a3d711aa9d4c",
   "metadata": {
    "tags": []
   },
   "outputs": [],
   "source": [
    "eval_model(best_model)"
   ]
  },
  {
   "cell_type": "code",
   "execution_count": null,
   "id": "d03ecaf2-d9bf-4099-8273-0019506a1291",
   "metadata": {},
   "outputs": [],
   "source": []
  },
  {
   "cell_type": "code",
   "execution_count": null,
   "id": "d34040b7-cc74-4ed1-bd3e-32cbd098f6b2",
   "metadata": {},
   "outputs": [],
   "source": []
  }
 ],
 "metadata": {
  "kernelspec": {
   "display_name": "tf_gpu",
   "language": "python",
   "name": "tf_gpu"
  },
  "language_info": {
   "codemirror_mode": {
    "name": "ipython",
    "version": 3
   },
   "file_extension": ".py",
   "mimetype": "text/x-python",
   "name": "python",
   "nbconvert_exporter": "python",
   "pygments_lexer": "ipython3",
   "version": "3.9.18"
  }
 },
 "nbformat": 4,
 "nbformat_minor": 5
}
